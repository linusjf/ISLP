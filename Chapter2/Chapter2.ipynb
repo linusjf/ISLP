{
 "cells": [
  {
   "cell_type": "markdown",
   "id": "be1d4551-6e27-4432-8251-d3aa7615da90",
   "metadata": {},
   "source": [
    "# Chapter 2 Lab "
   ]
  },
  {
   "cell_type": "code",
   "execution_count": null,
   "id": "34efe350-a5ab-4f70-8ebd-b4e87fa13c7c",
   "metadata": {},
   "outputs": [],
   "source": [
    "print(\"Fit a model with \", 11 , \" variables\")\n"
   ]
  },
  {
   "cell_type": "code",
   "execution_count": null,
   "id": "bf65b3cf-b185-425a-9d13-e0a4a40659f7",
   "metadata": {
    "scrolled": true
   },
   "outputs": [],
   "source": [
    "print?"
   ]
  },
  {
   "cell_type": "code",
   "execution_count": null,
   "id": "d734f33a-3ed9-48c0-b563-d7da6d973b8f",
   "metadata": {},
   "outputs": [],
   "source": [
    "3 + 5"
   ]
  },
  {
   "cell_type": "code",
   "execution_count": null,
   "id": "06d3ca78-3167-4907-b116-cc3b8f7066c3",
   "metadata": {
    "scrolled": true
   },
   "outputs": [],
   "source": [
    "\"hello, \" + \" \" + \"world!\""
   ]
  },
  {
   "cell_type": "code",
   "execution_count": null,
   "id": "e677024a-8559-4e9c-b50c-d1fa7a8277a7",
   "metadata": {},
   "outputs": [],
   "source": [
    "x = [3,4,5]\n",
    "x"
   ]
  },
  {
   "cell_type": "code",
   "execution_count": null,
   "id": "f14b5371-463c-4dc9-a346-96aa82200153",
   "metadata": {},
   "outputs": [],
   "source": [
    "y = [4,9,7]\n",
    "x + y"
   ]
  },
  {
   "cell_type": "code",
   "execution_count": null,
   "id": "54aec309-48b8-413f-8abe-0fccfac0064c",
   "metadata": {},
   "outputs": [],
   "source": [
    "import numpy as np"
   ]
  },
  {
   "cell_type": "code",
   "execution_count": null,
   "id": "b9994274-c47e-49cb-8445-4fed6a2bc88d",
   "metadata": {},
   "outputs": [],
   "source": [
    "x = np.array([3,4,5])\n",
    "y = np.array([4,9,7])\n",
    "x + y"
   ]
  },
  {
   "cell_type": "code",
   "execution_count": null,
   "id": "afe09ec7-d68e-4729-8f6d-e955c678ad64",
   "metadata": {},
   "outputs": [],
   "source": [
    "x = np.array([[1,2], [3,4]])\n",
    "x"
   ]
  },
  {
   "cell_type": "code",
   "execution_count": null,
   "id": "7eaf7796-e355-4a33-9363-17f71a054ee0",
   "metadata": {},
   "outputs": [],
   "source": [
    "x.ndim\n"
   ]
  },
  {
   "cell_type": "code",
   "execution_count": null,
   "id": "37fae3c4-204b-4087-9466-1dd6cb020de0",
   "metadata": {},
   "outputs": [],
   "source": [
    "x.dtype"
   ]
  },
  {
   "cell_type": "code",
   "execution_count": null,
   "id": "061a6d79-dc12-4c5b-91c8-bb1df0b7d411",
   "metadata": {},
   "outputs": [],
   "source": [
    "x = np.array([[1,2], [3.0,4]])\n",
    "x.dtype"
   ]
  },
  {
   "cell_type": "code",
   "execution_count": null,
   "id": "00b02947-a730-4cc4-a88e-50ad6507e3af",
   "metadata": {},
   "outputs": [],
   "source": [
    "np.array ([[1, 2], [3, 4]], float).dtype"
   ]
  },
  {
   "cell_type": "code",
   "execution_count": null,
   "id": "8211a711-3ed3-457c-94c6-2e80bde0fdf2",
   "metadata": {},
   "outputs": [],
   "source": [
    "x.shape"
   ]
  },
  {
   "cell_type": "code",
   "execution_count": null,
   "id": "0c02c1cf-fb6e-4195-8cd6-223267887361",
   "metadata": {},
   "outputs": [],
   "source": [
    "x = np.array([1,2,3,4])\n",
    "x.sum()"
   ]
  },
  {
   "cell_type": "code",
   "execution_count": null,
   "id": "2b05794d-2e26-446b-a650-2aedbc365938",
   "metadata": {},
   "outputs": [],
   "source": []
  },
  {
   "cell_type": "code",
   "execution_count": null,
   "id": "9b1b990f-982b-435c-ac26-e5735a1bc7c9",
   "metadata": {},
   "outputs": [],
   "source": [
    "x = np.array([1,2,3,4])\n",
    "np.sum(x)"
   ]
  },
  {
   "cell_type": "code",
   "execution_count": null,
   "id": "9b868c65-cc31-4873-9203-afe1970a7336",
   "metadata": {},
   "outputs": [],
   "source": [
    "x = np.array([1,2,3,4,5,6])\n",
    "print(\"Beginning x:\\n \", x)\n",
    "x_reshape = x.reshape(2,3)\n",
    "print(\"reshaped x:\\n\", x_reshape)"
   ]
  },
  {
   "cell_type": "code",
   "execution_count": null,
   "id": "72326005-a933-447a-aa26-5ee6771d571e",
   "metadata": {},
   "outputs": [],
   "source": [
    "x_reshape[0,0]"
   ]
  },
  {
   "cell_type": "code",
   "execution_count": null,
   "id": "ee6e36fa-5664-42b4-9d73-a8739a54b0e3",
   "metadata": {},
   "outputs": [],
   "source": [
    "x_reshape[1,2]"
   ]
  },
  {
   "cell_type": "code",
   "execution_count": null,
   "id": "6d0658c3-eca9-44b4-9926-39dd4d3f2003",
   "metadata": {},
   "outputs": [],
   "source": [
    "print(\"x before we modify x_reshape:\\n\", x)\n",
    "print(\"x_reshape before we modify x_reshape:\\n\", x_reshape)\n",
    "x_reshape[0,0] = 5\n",
    "print(\"x_reshape after we modify its top left element:\\n\", x_reshape)\n",
    "print(\"x after we modify top left element of x_reshape:\\n\", x)\n"
   ]
  },
  {
   "cell_type": "code",
   "execution_count": null,
   "id": "f3a16077-e612-4a41-9aac-e4cac4b6bbc8",
   "metadata": {},
   "outputs": [],
   "source": [
    "my_tuple = (1,2,3)\n",
    "# type error\n",
    "# my_tuple[0] = 10"
   ]
  },
  {
   "cell_type": "code",
   "execution_count": null,
   "id": "dc845699-a3c5-4571-b5f6-f4eddd54e0b4",
   "metadata": {},
   "outputs": [],
   "source": [
    "x_reshape.shape, x_reshape.ndim, x_reshape.T"
   ]
  },
  {
   "cell_type": "code",
   "execution_count": null,
   "id": "6bb25139-cbff-4d0d-8d1f-90b580bba70e",
   "metadata": {},
   "outputs": [],
   "source": [
    "np.sqrt(x)"
   ]
  },
  {
   "cell_type": "code",
   "execution_count": null,
   "id": "46aeff42-b059-4f55-bdfd-6f5e956c3191",
   "metadata": {},
   "outputs": [],
   "source": [
    "x**2"
   ]
  },
  {
   "cell_type": "code",
   "execution_count": null,
   "id": "688715d6-abe8-4372-b99e-223a87592347",
   "metadata": {},
   "outputs": [],
   "source": [
    "x**0.5"
   ]
  },
  {
   "cell_type": "code",
   "execution_count": null,
   "id": "fbf52c14-bcdb-407d-9ce3-b7082a635fad",
   "metadata": {},
   "outputs": [],
   "source": [
    "np.random.normal?"
   ]
  },
  {
   "cell_type": "code",
   "execution_count": null,
   "id": "2abf8c1f-6240-4307-b92c-503051bf7f0e",
   "metadata": {},
   "outputs": [],
   "source": [
    "x = np.random.normal(size=50)\n",
    "x"
   ]
  },
  {
   "cell_type": "code",
   "execution_count": null,
   "id": "1c0841df-71e4-4b9a-b1ba-411f6df4f3b0",
   "metadata": {},
   "outputs": [],
   "source": [
    "y = x + np.random.normal(loc=50, scale=1, size=50)"
   ]
  },
  {
   "cell_type": "code",
   "execution_count": null,
   "id": "7e123266-2efe-4d78-a822-485c57660a8d",
   "metadata": {},
   "outputs": [],
   "source": [
    "np.corrcoef(x,y)"
   ]
  },
  {
   "cell_type": "code",
   "execution_count": null,
   "id": "e3ff8d9e-59aa-4cf4-8a86-6ce6bc15528a",
   "metadata": {},
   "outputs": [],
   "source": [
    "print(np.random.normal(scale=5, size=2))\n",
    "print(np.random.normal(scale=5, size=2))"
   ]
  },
  {
   "cell_type": "code",
   "execution_count": null,
   "id": "06fdbec6-b607-4aeb-a271-dd66bed56a16",
   "metadata": {},
   "outputs": [],
   "source": [
    "rng = np.random.default_rng(1303)\n",
    "print(rng.normal(scale=5, size=2))\n",
    "rng = np.random.default_rng(1303)\n",
    "print(rng.normal(scale=5, size=2))"
   ]
  },
  {
   "cell_type": "code",
   "execution_count": null,
   "id": "6bdcb70e-a500-42e1-bc4b-8d9cee7d4fa8",
   "metadata": {},
   "outputs": [],
   "source": [
    "rng = np.random.default_rng(3)\n",
    "y = rng.standard_normal(10)\n",
    "np.mean(y), y.mean()"
   ]
  },
  {
   "cell_type": "code",
   "execution_count": null,
   "id": "ade46755-3ede-46be-83db-7b84289f997f",
   "metadata": {},
   "outputs": [],
   "source": [
    "np.var(y), y.var(), np.mean((y - y.mean())**2)"
   ]
  },
  {
   "cell_type": "code",
   "execution_count": null,
   "id": "3013bc8d-f3b7-4c98-8700-6e6bf5f544dc",
   "metadata": {},
   "outputs": [],
   "source": [
    "np.sqrt(np.var(y)), np.std(y)"
   ]
  },
  {
   "cell_type": "code",
   "execution_count": null,
   "id": "a408f674-fc27-436d-8af6-f60584ab28d6",
   "metadata": {},
   "outputs": [],
   "source": [
    "np.var?"
   ]
  },
  {
   "cell_type": "code",
   "execution_count": null,
   "id": "e9eab74a-cdd3-402a-b3f6-658b8f03f7d3",
   "metadata": {},
   "outputs": [],
   "source": [
    "X = rng.standard_normal((10,3))\n",
    "X"
   ]
  },
  {
   "cell_type": "code",
   "execution_count": null,
   "id": "c1ded4bd-74b9-4e91-812f-0eb07515fc73",
   "metadata": {},
   "outputs": [],
   "source": [
    "X.mean(axis=0)"
   ]
  },
  {
   "cell_type": "code",
   "execution_count": null,
   "id": "37281911-b439-463c-b010-d80157134743",
   "metadata": {},
   "outputs": [],
   "source": [
    "X.mean(axis=0)"
   ]
  },
  {
   "cell_type": "code",
   "execution_count": null,
   "id": "a7fd25c0-b12e-4b25-ab33-ed51f7b5fa99",
   "metadata": {},
   "outputs": [],
   "source": [
    "X.mean(0)"
   ]
  },
  {
   "cell_type": "code",
   "execution_count": null,
   "id": "a74b09d0-d54a-4f97-8043-6eb98035c8ea",
   "metadata": {},
   "outputs": [],
   "source": [
    "X.mean(1)"
   ]
  },
  {
   "cell_type": "code",
   "execution_count": null,
   "id": "23ec0fea-7176-4210-879f-9b34c79c4730",
   "metadata": {},
   "outputs": [],
   "source": [
    "X.mean()"
   ]
  },
  {
   "cell_type": "code",
   "execution_count": null,
   "id": "4d693df6-07f5-4890-8f64-74d59164f7eb",
   "metadata": {},
   "outputs": [],
   "source": [
    "ax.plot?"
   ]
  },
  {
   "cell_type": "code",
   "execution_count": null,
   "id": "d9b44ee9-e496-4f5d-9515-79d27a3012cb",
   "metadata": {},
   "outputs": [],
   "source": [
    "from matplotlib.pyplot import subplots"
   ]
  },
  {
   "cell_type": "code",
   "execution_count": null,
   "id": "cf25d980-8e78-4f22-a0ed-39c14d56b7ee",
   "metadata": {},
   "outputs": [],
   "source": [
    "fig, ax = subplots(figsize=(8,8))\n",
    "x = rng.standard_normal(100)\n",
    "y = rng.standard_normal(100)\n",
    "ax.plot(x, y);"
   ]
  },
  {
   "cell_type": "code",
   "execution_count": null,
   "id": "c7644c81-7745-442a-87f1-e5cff15ad259",
   "metadata": {},
   "outputs": [],
   "source": [
    "fig, ax = subplots(figsize=(8,8))\n",
    "ax.plot(x, y, 'o');"
   ]
  },
  {
   "cell_type": "code",
   "execution_count": null,
   "id": "f2dc7b2f-1a64-4130-9f35-3a775d9f858e",
   "metadata": {},
   "outputs": [],
   "source": [
    "fig, ax = subplots(figsize=(8,8))\n",
    "ax.scatter(x, y, marker =  'o');"
   ]
  },
  {
   "cell_type": "code",
   "execution_count": null,
   "id": "e3dccf82-bb18-4563-9e1d-5f8343580422",
   "metadata": {},
   "outputs": [],
   "source": [
    "fig, ax = subplots(figsize=(8,8))\n",
    "\n",
    "ax.scatter(x, y, marker = 'o');  \n",
    "ax.set_xlabel(\"this is the x-axis\")\n",
    "ax.set_ylabel(\"this is the y-axis\")\n",
    "ax.set_title(\"Plot of X vs Y\");"
   ]
  },
  {
   "cell_type": "code",
   "execution_count": null,
   "id": "bfabfcec-d68d-4ded-a9bc-48d50727fbc6",
   "metadata": {},
   "outputs": [],
   "source": [
    "fig.set_size_inches(12, 3)\n",
    "fig"
   ]
  },
  {
   "cell_type": "code",
   "execution_count": null,
   "id": "f6d33abc-df9c-4efa-96c0-68ae46d45a5d",
   "metadata": {},
   "outputs": [],
   "source": [
    "fig, axes = subplots(nrows = 2, ncols = 3, figsize=(15,5))"
   ]
  },
  {
   "cell_type": "code",
   "execution_count": null,
   "id": "0e5b9462-aeca-4b10-b29e-ba19ce2dab79",
   "metadata": {},
   "outputs": [],
   "source": [
    "axes[0,1].plot(x, y, 'o')\n",
    "axes[1, 2].scatter(x, y, marker='+');\n",
    "fig"
   ]
  },
  {
   "cell_type": "code",
   "execution_count": null,
   "id": "274994ba-4bbb-4b77-bda3-d9f1554d58ff",
   "metadata": {},
   "outputs": [],
   "source": [
    "fig.savefig(\"Figure.png\", dpi=400)\n",
    "fig.savefig(\"Figure.pdf\", dpi=200);"
   ]
  },
  {
   "cell_type": "code",
   "execution_count": null,
   "id": "ed0bde8d-5eee-4506-88a4-2f5af3e0bf91",
   "metadata": {},
   "outputs": [],
   "source": [
    "axes[0, 1].set_xlim([-1, 1])\n",
    "fig.savefig(\"Figure_updated.jpg\")\n",
    "fig"
   ]
  },
  {
   "cell_type": "code",
   "execution_count": null,
   "id": "bb1cea6c-0b52-444b-9026-db8f5c4180bf",
   "metadata": {},
   "outputs": [],
   "source": [
    "fig, ax = subplots(figsize = (8,8))\n",
    "x = np.linspace(-np.pi, np.pi, 50)\n",
    "print(x)\n",
    "y = x\n",
    "f = np.multiply.outer(np.cos(y), 1 / (1 + x**2))\n",
    "ax.contour(x, y, f);"
   ]
  },
  {
   "cell_type": "code",
   "execution_count": null,
   "id": "c7b1d5f1-4ecc-4baa-aff4-a84f164c69e8",
   "metadata": {},
   "outputs": [],
   "source": [
    "fig, ax = subplots(figsize = (8,8))\n",
    "ax.contour(x, y, f, levels = 45);"
   ]
  },
  {
   "cell_type": "code",
   "execution_count": null,
   "id": "97c3e755-1a19-4064-b7fd-d98f768cbaf7",
   "metadata": {},
   "outputs": [],
   "source": [
    "fig, ax = subplots(figsize = (8,8))\n",
    "ax.imshow(f);"
   ]
  },
  {
   "cell_type": "code",
   "execution_count": null,
   "id": "01ea3338-bef3-43ec-a640-d16445aab038",
   "metadata": {},
   "outputs": [],
   "source": [
    "seq1 = np.linspace(0,10, 11)\n",
    "seq1"
   ]
  },
  {
   "cell_type": "code",
   "execution_count": null,
   "id": "9dcb9f48-d89c-4843-9776-7b8daf5caece",
   "metadata": {},
   "outputs": [],
   "source": [
    "seq2 = np.arange(0, 10)\n",
    "seq2"
   ]
  },
  {
   "cell_type": "code",
   "execution_count": null,
   "id": "284e5218-e52d-4f31-a971-1c5cd8b2e301",
   "metadata": {},
   "outputs": [],
   "source": [
    "\"Hello, world!\"[3:6]"
   ]
  },
  {
   "cell_type": "code",
   "execution_count": null,
   "id": "0ccd51ee-9172-42a5-86a0-a8f09431562a",
   "metadata": {},
   "outputs": [],
   "source": [
    "\"Hello, world!\"[slice(3,6)]"
   ]
  },
  {
   "cell_type": "code",
   "execution_count": null,
   "id": "91e9cbe6-45ab-4430-9d1b-91c439ab6d54",
   "metadata": {},
   "outputs": [],
   "source": [
    "A = np.array(np.arange(16)).reshape((4,4))\n",
    "print(A)\n",
    "A[1,2]"
   ]
  },
  {
   "cell_type": "code",
   "execution_count": null,
   "id": "6e8f2bb9-f55b-4187-a681-45eeb2373ddc",
   "metadata": {},
   "outputs": [],
   "source": [
    "A[[1,3]]"
   ]
  },
  {
   "cell_type": "code",
   "execution_count": null,
   "id": "34f5c75b-a3f3-4d8b-8748-5b58108c8a77",
   "metadata": {},
   "outputs": [],
   "source": [
    "A[:,[0,2]]"
   ]
  },
  {
   "cell_type": "code",
   "execution_count": null,
   "id": "eb821de8-e9fe-464c-b8f2-fc493e5f554d",
   "metadata": {},
   "outputs": [],
   "source": [
    "A[[1,3],[0,2]]"
   ]
  },
  {
   "cell_type": "code",
   "execution_count": null,
   "id": "bdedfa4f-1ea7-4ad2-8d7b-4077bef3faaf",
   "metadata": {},
   "outputs": [],
   "source": [
    "np.array([A[1,0],A[3,2]])"
   ]
  },
  {
   "cell_type": "code",
   "execution_count": null,
   "id": "3cf22da3-1c8c-4c5f-ae18-6d2a189b7071",
   "metadata": {},
   "outputs": [],
   "source": [
    "A[[1,3]][:,[0,2]]"
   ]
  },
  {
   "cell_type": "code",
   "execution_count": null,
   "id": "6efb450f-4c83-410a-bcb1-5ad7e2c08359",
   "metadata": {},
   "outputs": [],
   "source": [
    "idx = np.ix_([1,3],[0,2,3])\n",
    "A[idx]"
   ]
  },
  {
   "cell_type": "code",
   "execution_count": null,
   "id": "72419154-ac97-40ef-a688-c82798434305",
   "metadata": {},
   "outputs": [],
   "source": [
    "A[1:4:2,0:3:2]"
   ]
  },
  {
   "cell_type": "code",
   "execution_count": null,
   "id": "8fdbea17-f7b5-4d27-9d10-6f870ef8707f",
   "metadata": {},
   "outputs": [],
   "source": [
    "keep_rows = np.zeros(A.shape[0], bool)\n",
    "keep_rows"
   ]
  },
  {
   "cell_type": "code",
   "execution_count": null,
   "id": "81c24549-7a46-4c8d-b095-0e3e31f1726a",
   "metadata": {},
   "outputs": [],
   "source": [
    "keep_rows[[1,3]] = True\n",
    "keep_rows"
   ]
  },
  {
   "cell_type": "code",
   "execution_count": null,
   "id": "fc397334-6763-4af1-b17a-e2f29a1a8e7a",
   "metadata": {},
   "outputs": [],
   "source": [
    "np.all(keep_rows == np.array([0, 1,0,1]))"
   ]
  },
  {
   "cell_type": "code",
   "execution_count": null,
   "id": "d24c7924-a33f-4776-bb0e-de59c82d92df",
   "metadata": {},
   "outputs": [],
   "source": [
    "A[np.array([0,1,0,1])]"
   ]
  },
  {
   "cell_type": "code",
   "execution_count": null,
   "id": "31f88faf-b37f-4bb2-83ba-e45c6f94126c",
   "metadata": {},
   "outputs": [],
   "source": [
    "A[keep_rows]"
   ]
  },
  {
   "cell_type": "code",
   "execution_count": null,
   "id": "d0a0299d-c9ef-448b-be9b-7c2271c304d6",
   "metadata": {},
   "outputs": [],
   "source": [
    "keep_cols = np.zeros(A.shape[1], bool)\n",
    "keep_cols"
   ]
  },
  {
   "cell_type": "code",
   "execution_count": null,
   "id": "d8235074-1fad-447f-b5e1-f22dadd36d67",
   "metadata": {},
   "outputs": [],
   "source": [
    "keep_cols[[0,2,3]] = True\n",
    "keep_cols"
   ]
  },
  {
   "cell_type": "code",
   "execution_count": null,
   "id": "43c9041c-b866-46e4-824f-832eb68f02f0",
   "metadata": {},
   "outputs": [],
   "source": [
    "idx_bool = np.ix_(keep_rows, keep_cols)\n",
    "idx_bool"
   ]
  },
  {
   "cell_type": "code",
   "execution_count": null,
   "id": "f3649f40-468c-4183-8483-c1eb4cdea49e",
   "metadata": {},
   "outputs": [],
   "source": [
    "A[idx_bool]"
   ]
  },
  {
   "cell_type": "code",
   "execution_count": null,
   "id": "f2fb7c8d-4da9-45c2-a896-18ef762e1011",
   "metadata": {},
   "outputs": [],
   "source": [
    "idx_mixed = np.ix_([1,3], keep_cols)\n",
    "idx_mixed"
   ]
  },
  {
   "cell_type": "code",
   "execution_count": null,
   "id": "0c513c73-4fe8-4771-84ef-f217d9f20f8d",
   "metadata": {},
   "outputs": [],
   "source": [
    "A[idx_mixed]"
   ]
  },
  {
   "cell_type": "markdown",
   "id": "27b55bd3-10a9-43e2-a79c-7316b89e127c",
   "metadata": {},
   "source": [
    "## Reading in a data set"
   ]
  },
  {
   "cell_type": "code",
   "execution_count": null,
   "id": "816de9fb-c82b-4d62-846f-7b1e60509206",
   "metadata": {},
   "outputs": [],
   "source": [
    "import pandas as pd\n",
    "Auto = pd.read_csv(\"Auto.csv\")\n",
    "Auto"
   ]
  },
  {
   "cell_type": "code",
   "execution_count": null,
   "id": "b77a659e-bf06-4172-a090-25e95b77915b",
   "metadata": {},
   "outputs": [],
   "source": [
    "Auto = pd.read_csv(\"Auto.data\", sep=\"\\s+\")\n",
    "Auto"
   ]
  },
  {
   "cell_type": "code",
   "execution_count": null,
   "id": "58e8aeec-46d0-4e5c-8bbc-0493cb1df61c",
   "metadata": {},
   "outputs": [],
   "source": [
    "Auto[\"horsepower\"]"
   ]
  },
  {
   "cell_type": "code",
   "execution_count": null,
   "id": "bdc3d69f-0a57-4145-bc6b-b0aeceec432f",
   "metadata": {},
   "outputs": [],
   "source": [
    "np.unique(Auto[\"horsepower\"])"
   ]
  },
  {
   "cell_type": "code",
   "execution_count": null,
   "id": "4fec9bad-0fc7-44da-8ff5-c229e963f7a1",
   "metadata": {},
   "outputs": [],
   "source": [
    "Auto = pd.read_csv(\"Auto.data\", na_values=[\"?\"], sep=\"\\s+\")\n",
    "Auto[\"horsepower\"].sum()"
   ]
  },
  {
   "cell_type": "code",
   "execution_count": null,
   "id": "2415d7f1-798b-421d-b414-a87b3abe4fa6",
   "metadata": {},
   "outputs": [],
   "source": [
    "Auto.shape"
   ]
  },
  {
   "cell_type": "code",
   "execution_count": null,
   "id": "ff6f39a2-5324-4ae5-ba5c-140981ea066a",
   "metadata": {},
   "outputs": [],
   "source": [
    "Auto_new = Auto.dropna()"
   ]
  },
  {
   "cell_type": "code",
   "execution_count": null,
   "id": "0ce3e530-0f68-4989-b12a-24201214d257",
   "metadata": {},
   "outputs": [],
   "source": [
    "Auto_new.shape"
   ]
  },
  {
   "cell_type": "code",
   "execution_count": null,
   "id": "d60c5efd-139f-476b-b25c-bca643240919",
   "metadata": {},
   "outputs": [],
   "source": [
    "Auto = Auto_new\n",
    "Auto.columns"
   ]
  },
  {
   "cell_type": "code",
   "execution_count": null,
   "id": "9ab31e1f-69b7-49b0-bd52-3af4d3332519",
   "metadata": {},
   "outputs": [],
   "source": [
    "Auto[:3]"
   ]
  },
  {
   "cell_type": "code",
   "execution_count": null,
   "id": "b64d9afc-a5f4-4ff2-940f-48b713b64211",
   "metadata": {},
   "outputs": [],
   "source": [
    "idx_80 = Auto['year'] > 80\n",
    "Auto[idx_80]"
   ]
  },
  {
   "cell_type": "code",
   "execution_count": null,
   "id": "a9ce0e5f-fbbc-41d5-a3cd-88ac54aee5b3",
   "metadata": {},
   "outputs": [],
   "source": [
    "Auto[[\"mpg\",\"horsepower\"]]"
   ]
  },
  {
   "cell_type": "code",
   "execution_count": null,
   "id": "8b025cb8-7f5b-4d10-bac3-12f1741f1f57",
   "metadata": {},
   "outputs": [],
   "source": [
    "Auto.index"
   ]
  },
  {
   "cell_type": "code",
   "execution_count": null,
   "id": "4d826e65-e3f7-4a92-b793-612a3229bab5",
   "metadata": {},
   "outputs": [],
   "source": [
    "Auto_re = Auto.set_index(\"name\")\n",
    "Auto_re"
   ]
  },
  {
   "cell_type": "code",
   "execution_count": null,
   "id": "e2a0d8d8-1f9c-478b-8175-85025f2bb5c5",
   "metadata": {},
   "outputs": [],
   "source": [
    "Auto_re.columns"
   ]
  },
  {
   "cell_type": "code",
   "execution_count": null,
   "id": "8f900c89-535b-4ee7-8700-8caf40fdeffb",
   "metadata": {},
   "outputs": [],
   "source": [
    "Auto_re.shape"
   ]
  },
  {
   "cell_type": "code",
   "execution_count": null,
   "id": "a3ca9e6a-2d09-4928-bd23-ab0104540d8a",
   "metadata": {},
   "outputs": [],
   "source": [
    "rows = [\"amc rebel sst\", \"ford torino\"]\n",
    "Auto_re.loc[rows]"
   ]
  },
  {
   "cell_type": "code",
   "execution_count": null,
   "id": "71d9ea07-7878-4777-8a0f-e07de8b470a5",
   "metadata": {},
   "outputs": [],
   "source": [
    "Auto_re.iloc[[3,4]]"
   ]
  },
  {
   "cell_type": "code",
   "execution_count": null,
   "id": "f0d87c80-6b39-4aab-a94d-6b16335fe64e",
   "metadata": {},
   "outputs": [],
   "source": [
    "Auto_re.iloc[:,[0,2,3]]"
   ]
  },
  {
   "cell_type": "code",
   "execution_count": null,
   "id": "f49613a5-1949-4a97-999a-2ae6ac9a132b",
   "metadata": {},
   "outputs": [],
   "source": [
    "Auto_re.iloc[[3,4],[0,2,3]]"
   ]
  },
  {
   "cell_type": "code",
   "execution_count": null,
   "id": "b9eca5bc-3e32-4fd0-8e76-baa95d8c1093",
   "metadata": {},
   "outputs": [],
   "source": [
    "Auto_re.loc['ford galaxie 500', [\"mpg\", \"origin\"]]"
   ]
  },
  {
   "cell_type": "code",
   "execution_count": null,
   "id": "54f9cc58-6835-4f69-9a39-7d4474e14735",
   "metadata": {},
   "outputs": [],
   "source": [
    "idx_80 = Auto_re[\"year\"] > 80\n",
    "Auto_re.loc[idx_80]"
   ]
  },
  {
   "cell_type": "code",
   "execution_count": null,
   "id": "606718d9-a9bd-46cc-bd7e-b2bdd0a0db61",
   "metadata": {},
   "outputs": [],
   "source": [
    "Auto_re.loc[idx_80, [\"weight\", \"origin\"]]"
   ]
  },
  {
   "cell_type": "code",
   "execution_count": null,
   "id": "18034537-4075-4d08-9ce9-c72d40c91887",
   "metadata": {},
   "outputs": [],
   "source": [
    "Auto_re.loc[lambda df: df['year'] > 80, [\"weight\", \"origin\"]]"
   ]
  },
  {
   "cell_type": "code",
   "execution_count": null,
   "id": "d2f9b0c7-40f9-4797-b169-5e724c211fb4",
   "metadata": {},
   "outputs": [],
   "source": [
    "Auto_re.loc[lambda df: (df[\"year\"] > 80) & (df[\"mpg\"] > 30), [\"weight\", \"origin\"]]"
   ]
  },
  {
   "cell_type": "code",
   "execution_count": null,
   "id": "13e661ed-10e9-4370-8cc0-b712df802ddd",
   "metadata": {},
   "outputs": [],
   "source": [
    "Auto_re.loc[lambda df: (df[\"displacement\"] < 300) \n",
    "& (df.index.str.contains(\"ford\") \n",
    "| df.index.str.contains(\"datsun\")), \n",
    "  [\"weight\", \"origin\"]\n",
    "     ]"
   ]
  },
  {
   "cell_type": "markdown",
   "id": "78f49bda-1ac9-48e6-a05e-ffc7fe8c9fbe",
   "metadata": {
    "collapsed": true,
    "jupyter": {
     "outputs_hidden": true
    }
   },
   "source": [
    "## for loops"
   ]
  },
  {
   "cell_type": "code",
   "execution_count": null,
   "id": "4778ef04-c7ae-4e33-abcf-a0422a4a8c7f",
   "metadata": {},
   "outputs": [],
   "source": [
    "total = 0\n",
    "for value in [3,2,9]:\n",
    "  total += value\n",
    "print(\"total is: {0}\".format(total))  "
   ]
  },
  {
   "cell_type": "code",
   "execution_count": null,
   "id": "0476a821-1411-4338-b0b5-4156b98471f3",
   "metadata": {},
   "outputs": [],
   "source": [
    "total = 0\n",
    "for value in [3,2,9]:\n",
    "  for weight in [3,2,1]:\n",
    "    total += weight * value\n",
    "print(\"total is: {0}\".format(total))  "
   ]
  },
  {
   "cell_type": "code",
   "execution_count": null,
   "id": "588bb1c3-e60c-4f29-8e25-a1cb406719b0",
   "metadata": {},
   "outputs": [],
   "source": [
    "total = 0\n",
    "for value, weight in zip([3,2,9], [0.2,0.3,0.5]):\n",
    "  total += weight * value\n",
    "print(\"weighted average is: {0}\".format(total))  "
   ]
  },
  {
   "cell_type": "code",
   "execution_count": null,
   "id": "9ba22aad-1dbb-4632-bda3-9e20877045a5",
   "metadata": {},
   "outputs": [],
   "source": [
    "rng = np.random.default_rng(1)\n",
    "A = rng.standard_normal((127, 5))\n",
    "A"
   ]
  },
  {
   "cell_type": "code",
   "execution_count": null,
   "id": "0497468f-d5f4-4b5b-9cb9-8654c4540c61",
   "metadata": {},
   "outputs": [],
   "source": [
    "A.shape\n"
   ]
  },
  {
   "cell_type": "code",
   "execution_count": null,
   "id": "1bb9aa6c-894d-4a47-b242-a5fc7ca9d465",
   "metadata": {},
   "outputs": [],
   "source": [
    "M = rng.choice([0, np.nan], p = [0.8, 0.2], size=A.shape)\n",
    "M"
   ]
  },
  {
   "cell_type": "code",
   "execution_count": null,
   "id": "5c66b590-d1b9-40c8-84c1-b7e65129b147",
   "metadata": {},
   "outputs": [],
   "source": [
    "A += M\n",
    "A"
   ]
  },
  {
   "cell_type": "code",
   "execution_count": null,
   "id": "e5ea86f4-8725-495d-a30f-e80b305d278f",
   "metadata": {},
   "outputs": [],
   "source": [
    "D = pd.DataFrame(A, columns = [\"food\",\n",
    "                               \"bar\",\n",
    "                               \"pickle\",\n",
    "                               \"snack\",\n",
    "                               \"popcorn\"\n",
    "                              ])\n",
    "D"
   ]
  },
  {
   "cell_type": "code",
   "execution_count": null,
   "id": "c84b4bfd-268e-4ee5-9b35-0ad0a5a965dc",
   "metadata": {},
   "outputs": [],
   "source": [
    "D[:3]"
   ]
  },
  {
   "cell_type": "code",
   "execution_count": null,
   "id": "98fa5ae4-5a91-4b13-a550-b50aea166bc4",
   "metadata": {},
   "outputs": [],
   "source": [
    "for col in D.columns:\n",
    "  template = \"Column {0} has {1: .2%} missing values\"\n",
    "  print(template.format(col, np.isnan(D[col]).mean()))"
   ]
  },
  {
   "cell_type": "code",
   "execution_count": null,
   "id": "637442ac-f3d2-4335-8112-c0ade9c78917",
   "metadata": {},
   "outputs": [],
   "source": [
    "fig, ax = subplots(figsize=(8,8))\n",
    "ax.plot(Auto[\"horsepower\"].values, Auto[\"mpg\"].values, 'o');"
   ]
  },
  {
   "cell_type": "code",
   "execution_count": null,
   "id": "115760f7-b5aa-4c0b-acda-1d785042d99a",
   "metadata": {},
   "outputs": [],
   "source": [
    "ax = Auto.plot.scatter(\"horsepower\", \"mpg\")\n",
    "ax.set_title(\"Horsepower vs MPG\");"
   ]
  },
  {
   "cell_type": "code",
   "execution_count": null,
   "id": "c78641d8-4355-49dd-a3a0-893f1e75d6c4",
   "metadata": {},
   "outputs": [],
   "source": [
    "fig = ax.figure\n",
    "fig.savefig(\"hp_mpg.png\")"
   ]
  },
  {
   "cell_type": "code",
   "execution_count": null,
   "id": "2f1d15ee-84f1-4316-8cc4-2ff5fefd5f79",
   "metadata": {},
   "outputs": [],
   "source": [
    "fig, axes = subplots(ncols=3, figsize=(15,5))\n",
    "Auto.plot.scatter(\"horsepower\",\"mpg\", ax=axes[1]);"
   ]
  },
  {
   "cell_type": "code",
   "execution_count": null,
   "id": "265fab15-1350-4f04-9e9c-6c2fc724d61c",
   "metadata": {},
   "outputs": [],
   "source": [
    "Auto.cylinders = pd.Series(Auto.cylinders, dtype=\"category\")\n",
    "Auto.cylinders.dtype"
   ]
  },
  {
   "cell_type": "code",
   "execution_count": null,
   "id": "cd13f9c3-8b96-4016-a24a-8fbba6ef238a",
   "metadata": {},
   "outputs": [],
   "source": [
    "fig, ax = subplots(figsize=(8,8))\n",
    "Auto.boxplot(\"mpg\", by=\"cylinders\",ax=ax);"
   ]
  },
  {
   "cell_type": "code",
   "execution_count": null,
   "id": "abd69638-6054-49a0-a741-4d58a8285d84",
   "metadata": {},
   "outputs": [],
   "source": [
    "fig, ax = subplots(figsize=(8,8))\n",
    "Auto.hist(\"mpg\", ax=ax);"
   ]
  },
  {
   "cell_type": "code",
   "execution_count": null,
   "id": "fecf754f-941c-4b5b-8598-7805ac7ccc1b",
   "metadata": {},
   "outputs": [],
   "source": [
    "fig, ax = subplots(figsize=(8,8))\n",
    "Auto.hist(\"mpg\", color=\"red\", bins=12, ax=ax);"
   ]
  },
  {
   "cell_type": "code",
   "execution_count": null,
   "id": "51a8e5b1-5392-4303-b0c0-875e62086712",
   "metadata": {},
   "outputs": [],
   "source": [
    "Auto.hist?"
   ]
  },
  {
   "cell_type": "code",
   "execution_count": null,
   "id": "08801509-2db1-4f23-899f-790b291cee6c",
   "metadata": {},
   "outputs": [],
   "source": [
    "pd.plotting.scatter_matrix(Auto);"
   ]
  },
  {
   "cell_type": "code",
   "execution_count": null,
   "id": "9c7ef698-2af7-4b04-99e1-d404f0c6b482",
   "metadata": {},
   "outputs": [],
   "source": [
    "pd.plotting.scatter_matrix(Auto[[\"mpg\", \"displacement\", \"weight\"]]);"
   ]
  },
  {
   "cell_type": "code",
   "execution_count": null,
   "id": "9dae29b6-ab92-4a2a-bdbd-ab11299dfc29",
   "metadata": {},
   "outputs": [],
   "source": [
    "Auto[[\"mpg\",\"weight\"]].describe()"
   ]
  },
  {
   "cell_type": "code",
   "execution_count": null,
   "id": "0adae28b-686b-4815-a316-38de231dbe6d",
   "metadata": {},
   "outputs": [],
   "source": [
    "Auto[[\"cylinders\"]].describe()"
   ]
  },
  {
   "cell_type": "code",
   "execution_count": null,
   "id": "b30206c2-e1a4-428d-85f2-792e496379a3",
   "metadata": {},
   "outputs": [],
   "source": [
    "Auto[[\"mpg\"]].describe()"
   ]
  },
  {
   "cell_type": "code",
   "execution_count": null,
   "id": "1b014125-d475-4993-9b62-ce34ddea0b6b",
   "metadata": {},
   "outputs": [],
   "source": []
  }
 ],
 "metadata": {
  "kernelspec": {
   "display_name": "Python 3 (ipykernel)",
   "language": "python",
   "name": "python3"
  },
  "language_info": {
   "codemirror_mode": {
    "name": "ipython",
    "version": 3
   },
   "file_extension": ".py",
   "mimetype": "text/x-python",
   "name": "python",
   "nbconvert_exporter": "python",
   "pygments_lexer": "ipython3",
   "version": "3.10.12"
  }
 },
 "nbformat": 4,
 "nbformat_minor": 5
}

#!/usr/bin/env bash
find . -maxdepth 2 -type f -name "*.py" -exec jupytext --to 'ipynb' --update "{}" \;

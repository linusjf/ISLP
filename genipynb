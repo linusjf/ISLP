#!/usr/bin/env bash
find . -maxdepth 2 -type d -name "*.py" -exec jupytext --to 'ipynb' --update "{}" \;

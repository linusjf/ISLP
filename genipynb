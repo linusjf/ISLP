#!/usr/bin/env bash
set -e # Exit on error

# Ensure commands are installed
for cmd in "find" "python" "jupytext"; do
  command -v "$cmd" > /dev/null 2>&1 || {
    echo "Error: ${cmd} is not installed." >&2
    exit 1
  }
done

# Convert Python files to Jupyter notebooks
find . -maxdepth 2 -type f -name "*.py" -print -exec python -m jupytext --to 'ipynb' --update "{}" \;
